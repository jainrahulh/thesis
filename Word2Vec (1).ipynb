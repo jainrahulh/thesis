{
  "nbformat": 4,
  "nbformat_minor": 0,
  "metadata": {
    "colab": {
      "name": "Word2Vec.ipynb",
      "provenance": [],
      "collapsed_sections": []
    },
    "kernelspec": {
      "name": "python3",
      "display_name": "Python 3"
    }
  },
  "cells": [
    {
      "cell_type": "code",
      "metadata": {
        "id": "klW5U95lqg3O",
        "colab_type": "code",
        "colab": {}
      },
      "source": [
        "import pandas as pd\n",
        "import requests\n",
        "\n",
        "from bs4 import BeautifulSoup\n",
        "from sklearn.model_selection import train_test_split\n",
        "from sklearn.linear_model import PassiveAggressiveClassifier\n",
        "from sklearn.feature_extraction.text import TfidfVectorizer\n",
        "from sklearn.metrics import accuracy_score\n",
        "from sklearn.metrics import confusion_matrix\n",
        "\n",
        "import numpy as np"
      ],
      "execution_count": 85,
      "outputs": []
    },
    {
      "cell_type": "code",
      "metadata": {
        "id": "01NSiV0Irgsb",
        "colab_type": "code",
        "colab": {}
      },
      "source": [
        "df = pd.read_csv('APIData2000-FB.csv')"
      ],
      "execution_count": 86,
      "outputs": []
    },
    {
      "cell_type": "code",
      "metadata": {
        "id": "8jSq0b3prjtW",
        "colab_type": "code",
        "colab": {
          "base_uri": "https://localhost:8080/",
          "height": 51
        },
        "outputId": "3df734f4-ab0c-44cd-c984-d4b089606d2a"
      },
      "source": [
        "df = df[df['Ruling_Slug']!= 'no-flip']\n",
        "df = df[df['Ruling_Slug']!= 'full-flop'] \n",
        "df = df[df['Ruling_Slug']!= 'half-flip']\n",
        "df = df[df['Ruling_Slug']!= 'barely-true']\n",
        "df.Ruling_Slug.unique()"
      ],
      "execution_count": 87,
      "outputs": [
        {
          "output_type": "execute_result",
          "data": {
            "text/plain": [
              "array(['false', 'mostly-true', 'pants-fire', 'half-true', 'true'],\n",
              "      dtype=object)"
            ]
          },
          "metadata": {
            "tags": []
          },
          "execution_count": 87
        }
      ]
    },
    {
      "cell_type": "code",
      "metadata": {
        "id": "ha1SL6GurpE6",
        "colab_type": "code",
        "colab": {
          "base_uri": "https://localhost:8080/",
          "height": 34
        },
        "outputId": "0415715b-a59e-4a96-d7db-2481177d7c5b"
      },
      "source": [
        "df.loc[df['Ruling_Slug'] == 'half-true', 'Ruling_Slug'] = 'true'\n",
        "df.loc[df['Ruling_Slug'] == 'mostly-true', 'Ruling_Slug'] = 'true'\n",
        "df.loc[df['Ruling_Slug'] == 'mostly-false', 'Ruling_Slug'] = 'false'\n",
        "df.loc[df['Ruling_Slug'] == 'pants-fire', 'Ruling_Slug'] = 'false'\n",
        "#df.loc[df['Ruling_Slug'] == 'barely-true', 'Ruling_Slug'] = 'false'\n",
        "df.Ruling_Slug.unique()"
      ],
      "execution_count": 88,
      "outputs": [
        {
          "output_type": "execute_result",
          "data": {
            "text/plain": [
              "array(['false', 'true'], dtype=object)"
            ]
          },
          "metadata": {
            "tags": []
          },
          "execution_count": 88
        }
      ]
    },
    {
      "cell_type": "code",
      "metadata": {
        "id": "XygIDa_k2ury",
        "colab_type": "code",
        "colab": {
          "base_uri": "https://localhost:8080/",
          "height": 34
        },
        "outputId": "7d14376f-b9cf-4c7f-89a2-7ed1ad0c449a"
      },
      "source": [
        "df.loc[df['Ruling_Slug'] == 'true', 'Ruling_Slug'] = 1\n",
        "df.loc[df['Ruling_Slug'] == 'false', 'Ruling_Slug'] = 0\n",
        "df.Ruling_Slug.unique()"
      ],
      "execution_count": 89,
      "outputs": [
        {
          "output_type": "execute_result",
          "data": {
            "text/plain": [
              "array([0, 1], dtype=object)"
            ]
          },
          "metadata": {
            "tags": []
          },
          "execution_count": 89
        }
      ]
    },
    {
      "cell_type": "code",
      "metadata": {
        "id": "Ei_AwfzeruOB",
        "colab_type": "code",
        "colab": {
          "base_uri": "https://localhost:8080/",
          "height": 561
        },
        "outputId": "e7985f1d-8c51-4a7d-dbc9-6921ebeabd6d"
      },
      "source": [
        "df.head()"
      ],
      "execution_count": 90,
      "outputs": [
        {
          "output_type": "execute_result",
          "data": {
            "text/html": [
              "<div>\n",
              "<style scoped>\n",
              "    .dataframe tbody tr th:only-of-type {\n",
              "        vertical-align: middle;\n",
              "    }\n",
              "\n",
              "    .dataframe tbody tr th {\n",
              "        vertical-align: top;\n",
              "    }\n",
              "\n",
              "    .dataframe thead th {\n",
              "        text-align: right;\n",
              "    }\n",
              "</style>\n",
              "<table border=\"1\" class=\"dataframe\">\n",
              "  <thead>\n",
              "    <tr style=\"text-align: right;\">\n",
              "      <th></th>\n",
              "      <th>Unnamed: 0</th>\n",
              "      <th>Sequence</th>\n",
              "      <th>Ruling_Comments</th>\n",
              "      <th>Slug</th>\n",
              "      <th>Sources</th>\n",
              "      <th>Speaker</th>\n",
              "      <th>Speaker_Slug</th>\n",
              "      <th>Statement</th>\n",
              "      <th>Ruling_Slug</th>\n",
              "    </tr>\n",
              "  </thead>\n",
              "  <tbody>\n",
              "    <tr>\n",
              "      <th>0</th>\n",
              "      <td>0</td>\n",
              "      <td>18873</td>\n",
              "      <td>Texas schools will be open this fall, but pare...</td>\n",
              "      <td>some-covid-19-deaths-have-been-children</td>\n",
              "      <td>NBC DFW, Cornyn on COVID-19: We Still Don't Kn...</td>\n",
              "      <td>John Cornyn</td>\n",
              "      <td>john-cornyn</td>\n",
              "      <td>Says no one under the age of 20 has died of th...</td>\n",
              "      <td>0</td>\n",
              "    </tr>\n",
              "    <tr>\n",
              "      <th>1</th>\n",
              "      <td>1</td>\n",
              "      <td>18870</td>\n",
              "      <td>Do the Kiwis have something exceptional to sho...</td>\n",
              "      <td>yes-science-led-new-zealand-currently-has-no-l...</td>\n",
              "      <td>Facebook, post (archived here), July 7, 2020\\n...</td>\n",
              "      <td>Facebook posts</td>\n",
              "      <td>facebook-posts</td>\n",
              "      <td>New Zealand let health experts rather than pol...</td>\n",
              "      <td>1</td>\n",
              "    </tr>\n",
              "    <tr>\n",
              "      <th>2</th>\n",
              "      <td>2</td>\n",
              "      <td>18863</td>\n",
              "      <td>At a campaign event in western North Carolina ...</td>\n",
              "      <td>nc-republican-wrongfully-says-masks-do-not-work</td>\n",
              "      <td>Story by the Hendersonville Times-News, \"Fores...</td>\n",
              "      <td>Dan Forest</td>\n",
              "      <td>dan-forest</td>\n",
              "      <td>Multiple studies all said for decades, masks d...</td>\n",
              "      <td>0</td>\n",
              "    </tr>\n",
              "    <tr>\n",
              "      <th>5</th>\n",
              "      <td>5</td>\n",
              "      <td>18858</td>\n",
              "      <td>The Republican seeking to unseat U.S. Rep. Mat...</td>\n",
              "      <td>no-pa-congressman-matt-cartwright-did-not-call...</td>\n",
              "      <td>Bognet for Congress Press Release, \"Cartwright...</td>\n",
              "      <td>Jim Bognet</td>\n",
              "      <td>jim-bognet</td>\n",
              "      <td>U.S. Rep. Matt Cartwright proposes to defund t...</td>\n",
              "      <td>0</td>\n",
              "    </tr>\n",
              "    <tr>\n",
              "      <th>6</th>\n",
              "      <td>6</td>\n",
              "      <td>18857</td>\n",
              "      <td>The U.S. Centers for Disease Control and Preve...</td>\n",
              "      <td>batch-faulty-cdc-covid-19-tests-didnt-contain-...</td>\n",
              "      <td>Facebook post, July 6, 2020\\nABC 3340, EXCLUSI...</td>\n",
              "      <td>Facebook posts</td>\n",
              "      <td>facebook-posts</td>\n",
              "      <td>Federal officials confirmed that the CDC sent ...</td>\n",
              "      <td>0</td>\n",
              "    </tr>\n",
              "  </tbody>\n",
              "</table>\n",
              "</div>"
            ],
            "text/plain": [
              "   Unnamed: 0  ...  Ruling_Slug\n",
              "0           0  ...            0\n",
              "1           1  ...            1\n",
              "2           2  ...            0\n",
              "5           5  ...            0\n",
              "6           6  ...            0\n",
              "\n",
              "[5 rows x 9 columns]"
            ]
          },
          "metadata": {
            "tags": []
          },
          "execution_count": 90
        }
      ]
    },
    {
      "cell_type": "code",
      "metadata": {
        "id": "CyznH2F9sM5L",
        "colab_type": "code",
        "colab": {
          "base_uri": "https://localhost:8080/",
          "height": 85
        },
        "outputId": "b3ae1aa0-9ed7-44bb-aebb-7a689b382146"
      },
      "source": [
        "import nltk\n",
        "nltk.download('stopwords')\n",
        "nltk.download('punkt')\n",
        "\n",
        "stopwords = nltk.corpus.stopwords.words('english')\n",
        "extendStopWords = ['Say','Says','said','people']\n",
        "stopwords.extend(extendStopWords)\n",
        "\n",
        "y = df[\"Ruling_Slug\"].values\n",
        "#Converting X to format acceptable by gensim, removing annd punctuation stopwords in the process\n",
        "X = []\n",
        "stop_words = set(nltk.corpus.stopwords.words(\"english\"))\n",
        "tokenizer = nltk.tokenize.RegexpTokenizer(r'\\w+')\n",
        "for par in df[\"Statement\"].values:\n",
        "    tmp = []\n",
        "    sentences = nltk.sent_tokenize(par)\n",
        "    for sent in sentences:\n",
        "        sent = sent.lower()\n",
        "        tokens = tokenizer.tokenize(sent)\n",
        "        filtered_words = [w.strip() for w in tokens if w not in stop_words and len(w) > 1]\n",
        "        tmp.extend(filtered_words)\n",
        "    X.append(tmp)"
      ],
      "execution_count": 91,
      "outputs": [
        {
          "output_type": "stream",
          "text": [
            "[nltk_data] Downloading package stopwords to /root/nltk_data...\n",
            "[nltk_data]   Package stopwords is already up-to-date!\n",
            "[nltk_data] Downloading package punkt to /root/nltk_data...\n",
            "[nltk_data]   Package punkt is already up-to-date!\n"
          ],
          "name": "stdout"
        }
      ]
    },
    {
      "cell_type": "code",
      "metadata": {
        "id": "iRxDnGJBsfSA",
        "colab_type": "code",
        "colab": {
          "base_uri": "https://localhost:8080/",
          "height": 34
        },
        "outputId": "bb9bfd1c-7f01-4542-f1a8-ba5bcbe37c2e"
      },
      "source": [
        "X\n",
        "y"
      ],
      "execution_count": 92,
      "outputs": [
        {
          "output_type": "execute_result",
          "data": {
            "text/plain": [
              "array([0, 1, 0, ..., 0, 0, 0], dtype=object)"
            ]
          },
          "metadata": {
            "tags": []
          },
          "execution_count": 92
        }
      ]
    },
    {
      "cell_type": "code",
      "metadata": {
        "id": "uYRrVfKKssqF",
        "colab_type": "code",
        "colab": {}
      },
      "source": [
        "import gensim\n"
      ],
      "execution_count": 93,
      "outputs": []
    },
    {
      "cell_type": "code",
      "metadata": {
        "id": "s0pOsZB0s05x",
        "colab_type": "code",
        "colab": {}
      },
      "source": [
        "#Dimension of vectors we are generating\n",
        "EMBEDDING_DIM = 100\n",
        "\n",
        "#Creating Word Vectors by Word2Vec Method (takes time...)\n",
        "w2v_model = gensim.models.Word2Vec(sentences=X, size=EMBEDDING_DIM, window=5, min_count=1)"
      ],
      "execution_count": 94,
      "outputs": []
    },
    {
      "cell_type": "code",
      "metadata": {
        "id": "37061y0Ls34A",
        "colab_type": "code",
        "colab": {
          "base_uri": "https://localhost:8080/",
          "height": 34
        },
        "outputId": "36281208-d271-4a08-a64c-17f9d534be61"
      },
      "source": [
        "len(w2v_model.wv.vocab)"
      ],
      "execution_count": 95,
      "outputs": [
        {
          "output_type": "execute_result",
          "data": {
            "text/plain": [
              "5278"
            ]
          },
          "metadata": {
            "tags": []
          },
          "execution_count": 95
        }
      ]
    },
    {
      "cell_type": "code",
      "metadata": {
        "id": "IxqphdrZs9Br",
        "colab_type": "code",
        "colab": {
          "base_uri": "https://localhost:8080/",
          "height": 513
        },
        "outputId": "e2061e90-40ae-46af-caaf-0ef8684f69bc"
      },
      "source": [
        "#see a sample vector for random word, lets say Corona \n",
        "w2v_model[\"corona\"]"
      ],
      "execution_count": 96,
      "outputs": [
        {
          "output_type": "stream",
          "text": [
            "/usr/local/lib/python3.6/dist-packages/ipykernel_launcher.py:2: DeprecationWarning: Call to deprecated `__getitem__` (Method will be removed in 4.0.0, use self.wv.__getitem__() instead).\n",
            "  \n"
          ],
          "name": "stderr"
        },
        {
          "output_type": "execute_result",
          "data": {
            "text/plain": [
              "array([-3.7455054e-03, -3.3690613e-03, -2.8942665e-03, -3.3342920e-03,\n",
              "        3.1785676e-03, -4.8362482e-03, -2.0820664e-03,  1.9338574e-03,\n",
              "        3.5202936e-03,  1.9849765e-03, -9.2420558e-04, -2.3010080e-03,\n",
              "       -1.7082755e-03, -4.7181970e-03, -1.3836478e-03,  5.0861011e-03,\n",
              "        3.6316342e-03, -3.5439513e-03, -3.8079862e-03, -3.5101399e-03,\n",
              "        3.8728239e-03,  2.9859802e-04, -1.4006334e-03, -3.1415850e-03,\n",
              "        2.7220938e-03,  3.8715180e-03,  2.5637681e-03, -1.3893947e-03,\n",
              "       -3.8162656e-03,  2.9477777e-03,  1.1920367e-03, -1.1332294e-03,\n",
              "       -2.2194062e-03,  1.0881560e-03,  3.7313353e-03, -3.3842996e-03,\n",
              "       -1.2723269e-04, -6.7353787e-05,  5.4091990e-05, -3.5179213e-03,\n",
              "        3.3254400e-03,  6.2183267e-04,  4.3111509e-03,  8.5871777e-04,\n",
              "       -3.7047986e-03,  4.3315468e-03,  7.3861639e-04, -2.5641611e-03,\n",
              "        3.3336743e-03,  2.9396135e-04, -3.2288269e-03,  4.1411966e-03,\n",
              "       -3.3021716e-03, -4.1292077e-03, -1.6031403e-03, -2.2264796e-03,\n",
              "       -1.6190613e-03, -1.7361363e-04, -9.9777791e-04, -3.4558901e-03,\n",
              "        4.0388429e-03, -4.2174105e-03, -3.5877866e-04,  1.9567923e-03,\n",
              "        2.2035505e-04,  1.6319978e-03, -3.2202054e-03, -3.2363701e-04,\n",
              "        1.7440765e-03,  2.4441972e-03,  3.5400498e-03,  2.6264600e-03,\n",
              "        9.5432471e-05, -3.7914068e-03, -6.4300385e-04,  2.4249621e-03,\n",
              "       -2.6250768e-03,  2.1066414e-03, -3.4063328e-03,  1.2031224e-03,\n",
              "        2.8444664e-03, -1.1883170e-03, -4.1242251e-03,  3.4281090e-03,\n",
              "        5.7925953e-04,  4.8851361e-03,  1.5232274e-03, -2.7008706e-03,\n",
              "       -1.9505665e-03,  1.3587284e-03, -3.6221843e-03,  1.4008114e-03,\n",
              "       -3.4533516e-03,  3.2075043e-03,  7.2137942e-04,  2.9599913e-03,\n",
              "        3.7628894e-03,  4.0085530e-03, -3.0018948e-03,  1.1069376e-04],\n",
              "      dtype=float32)"
            ]
          },
          "metadata": {
            "tags": []
          },
          "execution_count": 96
        }
      ]
    },
    {
      "cell_type": "code",
      "metadata": {
        "id": "hLQnGlnGtAXQ",
        "colab_type": "code",
        "colab": {
          "base_uri": "https://localhost:8080/",
          "height": 241
        },
        "outputId": "0799575f-cd18-485d-9b95-40a62687be54"
      },
      "source": [
        "w2v_model.wv.most_similar(\"corona\")"
      ],
      "execution_count": 97,
      "outputs": [
        {
          "output_type": "stream",
          "text": [
            "/usr/local/lib/python3.6/dist-packages/gensim/matutils.py:737: FutureWarning: Conversion of the second argument of issubdtype from `int` to `np.signedinteger` is deprecated. In future, it will be treated as `np.int64 == np.dtype(int).type`.\n",
            "  if np.issubdtype(vec.dtype, np.int):\n"
          ],
          "name": "stderr"
        },
        {
          "output_type": "execute_result",
          "data": {
            "text/plain": [
              "[('700', 0.3556317090988159),\n",
              " ('daughter', 0.3402072489261627),\n",
              " ('abandoned', 0.33026283979415894),\n",
              " ('post', 0.3246486783027649),\n",
              " ('osama', 0.31118714809417725),\n",
              " ('detain', 0.3065977692604065),\n",
              " ('folks', 0.3055826425552368),\n",
              " ('getting', 0.30231669545173645),\n",
              " ('deliberately', 0.3006289005279541),\n",
              " ('sarah', 0.2942197918891907)]"
            ]
          },
          "metadata": {
            "tags": []
          },
          "execution_count": 97
        }
      ]
    },
    {
      "cell_type": "code",
      "metadata": {
        "id": "tMswIGJWtFDD",
        "colab_type": "code",
        "colab": {
          "base_uri": "https://localhost:8080/",
          "height": 241
        },
        "outputId": "8db32220-9638-49d0-eec8-b62ec231ace1"
      },
      "source": [
        "#Feeding US Presidents\n",
        "w2v_model.wv.most_similar(positive=[\"trump\",\"obama\", \"clinton\"])\n",
        "#First was Bush"
      ],
      "execution_count": 98,
      "outputs": [
        {
          "output_type": "stream",
          "text": [
            "/usr/local/lib/python3.6/dist-packages/gensim/matutils.py:737: FutureWarning: Conversion of the second argument of issubdtype from `int` to `np.signedinteger` is deprecated. In future, it will be treated as `np.int64 == np.dtype(int).type`.\n",
            "  if np.issubdtype(vec.dtype, np.int):\n"
          ],
          "name": "stderr"
        },
        {
          "output_type": "execute_result",
          "data": {
            "text/plain": [
              "[('people', 0.7443649768829346),\n",
              " ('said', 0.71966153383255),\n",
              " ('says', 0.7130957841873169),\n",
              " ('saying', 0.6994816660881042),\n",
              " ('president', 0.6883561611175537),\n",
              " ('would', 0.6704502105712891),\n",
              " ('000', 0.6306294202804565),\n",
              " ('day', 0.6270318031311035),\n",
              " ('years', 0.6088911890983582),\n",
              " ('time', 0.6026270389556885)]"
            ]
          },
          "metadata": {
            "tags": []
          },
          "execution_count": 98
        }
      ]
    },
    {
      "cell_type": "code",
      "metadata": {
        "id": "A3F1JqaexaZt",
        "colab_type": "code",
        "colab": {}
      },
      "source": [
        "# Tokenizing Text -> Repsesenting each word by a number\n",
        "# Mapping of orginal word to number is preserved in word_index property of tokenizer\n",
        "\n",
        "#Tokenized applies basic processing like changing it yo lower case, explicitely setting that as False\n",
        "from tensorflow.keras.preprocessing.text import Tokenizer\n",
        "\n",
        "tokenizer = Tokenizer()\n",
        "tokenizer.fit_on_texts(X)\n",
        "\n",
        "X = tokenizer.texts_to_sequences(X)"
      ],
      "execution_count": 99,
      "outputs": []
    },
    {
      "cell_type": "code",
      "metadata": {
        "id": "VXFdPdk9xqZG",
        "colab_type": "code",
        "colab": {}
      },
      "source": [
        "#X"
      ],
      "execution_count": 100,
      "outputs": []
    },
    {
      "cell_type": "code",
      "metadata": {
        "id": "t84gvM-7x64h",
        "colab_type": "code",
        "colab": {
          "base_uri": "https://localhost:8080/",
          "height": 187
        },
        "outputId": "8f36f2f3-6ac7-4d63-b574-93e01bbe8dac"
      },
      "source": [
        "#Lets check few word to numerical replesentation\n",
        "#Mapping is preserved in dictionary -> word_index property of instance\n",
        "word_index = tokenizer.word_index\n",
        "for word, num in word_index.items():\n",
        "    print(f\"{word} -> {num}\")\n",
        "    if num == 10:\n",
        "        break       "
      ],
      "execution_count": 101,
      "outputs": [
        {
          "output_type": "stream",
          "text": [
            "says -> 1\n",
            "trump -> 2\n",
            "said -> 3\n",
            "people -> 4\n",
            "shows -> 5\n",
            "president -> 6\n",
            "photo -> 7\n",
            "donald -> 8\n",
            "coronavirus -> 9\n",
            "obama -> 10\n"
          ],
          "name": "stdout"
        }
      ]
    },
    {
      "cell_type": "code",
      "metadata": {
        "id": "4kIMCc7JyDxE",
        "colab_type": "code",
        "colab": {
          "base_uri": "https://localhost:8080/",
          "height": 265
        },
        "outputId": "6c050852-df0e-45f3-d876-f2cc01ee3eac"
      },
      "source": [
        "# For determining size of input...\n",
        "\n",
        "# Making histogram for no of words in news shows that most news article are under 700 words.\n",
        "# Lets keep each news small and truncate all news to 700 while tokenizing\n",
        "from matplotlib import pyplot as plt\n",
        "plt.hist([len(x) for x in X], bins=500)\n",
        "plt.show()"
      ],
      "execution_count": 102,
      "outputs": [
        {
          "output_type": "display_data",
          "data": {
            "image/png": "[encoded data removed]",
            "text/plain": [
              "<Figure size 432x288 with 1 Axes>"
            ]
          },
          "metadata": {
            "tags": [],
            "needs_background": "light"
          }
        }
      ]
    },
    {
      "cell_type": "code",
      "metadata": {
        "id": "rXNLT-mtyLB6",
        "colab_type": "code",
        "colab": {}
      },
      "source": [
        "nos = np.array([len(x) for x in X])"
      ],
      "execution_count": 103,
      "outputs": []
    },
    {
      "cell_type": "code",
      "metadata": {
        "id": "d73lei89yhiH",
        "colab_type": "code",
        "colab": {
          "base_uri": "https://localhost:8080/",
          "height": 34
        },
        "outputId": "552fbc06-42a5-4e8e-98a1-62cd2cf0bd55"
      },
      "source": [
        "nos = np.array([len(x) for x in X])\n",
        "len(nos[nos  < 50])"
      ],
      "execution_count": 104,
      "outputs": [
        {
          "output_type": "execute_result",
          "data": {
            "text/plain": [
              "1409"
            ]
          },
          "metadata": {
            "tags": []
          },
          "execution_count": 104
        }
      ]
    },
    {
      "cell_type": "code",
      "metadata": {
        "id": "N7Sssrmc1CsX",
        "colab_type": "code",
        "colab": {}
      },
      "source": [
        "from tensorflow.keras.preprocessing.sequence import pad_sequences\n",
        "#Lets keep all news to 700, add padding to news with less than 700 words and truncating long ones\n",
        "maxlen = 50 \n",
        "\n",
        "#Making all news of size maxlen defined above\n",
        "X = pad_sequences(X, maxlen=maxlen)"
      ],
      "execution_count": 105,
      "outputs": []
    },
    {
      "cell_type": "code",
      "metadata": {
        "id": "qtqUkxtjyqVe",
        "colab_type": "code",
        "colab": {}
      },
      "source": [
        "# Adding 1 because of reserved 0 index\n",
        "# Embedding Layer creates one more vector for \"UNKNOWN\" words, or padded words (0s). This Vector is filled with zeros.\n",
        "# Thus our vocab size inceeases by 1\n",
        "vocab_size = len(tokenizer.word_index) + 1"
      ],
      "execution_count": 106,
      "outputs": []
    },
    {
      "cell_type": "code",
      "metadata": {
        "id": "QmYIxlkwytHx",
        "colab_type": "code",
        "colab": {}
      },
      "source": [
        "# Function to create weight matrix from word2vec gensim model\n",
        "def get_weight_matrix(model, vocab):\n",
        "    # total vocabulary size plus 0 for unknown words\n",
        "    vocab_size = len(vocab) + 1\n",
        "    # define weight matrix dimensions with all 0\n",
        "    weight_matrix = np.zeros((vocab_size, EMBEDDING_DIM))\n",
        "    # step vocab, store vectors using the Tokenizer's integer mapping\n",
        "    for word, i in vocab.items():\n",
        "        weight_matrix[i] = model[word]\n",
        "    return weight_matrix"
      ],
      "execution_count": 107,
      "outputs": []
    },
    {
      "cell_type": "code",
      "metadata": {
        "id": "Y8F3AIgt0KiY",
        "colab_type": "code",
        "colab": {
          "base_uri": "https://localhost:8080/",
          "height": 71
        },
        "outputId": "3daeda71-7439-429a-ed65-ce54094c80f2"
      },
      "source": [
        "#Getting embedding vectors from word2vec and usings it as weights of non-trainable keras embedding layer\n",
        "embedding_vectors = get_weight_matrix(w2v_model, word_index)"
      ],
      "execution_count": 120,
      "outputs": [
        {
          "output_type": "stream",
          "text": [
            "/usr/local/lib/python3.6/dist-packages/ipykernel_launcher.py:9: DeprecationWarning: Call to deprecated `__getitem__` (Method will be removed in 4.0.0, use self.wv.__getitem__() instead).\n",
            "  if __name__ == '__main__':\n"
          ],
          "name": "stderr"
        }
      ]
    },
    {
      "cell_type": "code",
      "metadata": {
        "id": "I7YqzkCI0O6q",
        "colab_type": "code",
        "colab": {}
      },
      "source": [
        "from tensorflow.keras.models import Sequential\n",
        "from tensorflow.keras.layers import Dense, Embedding, LSTM, Conv1D, MaxPool1D\n",
        "#Defining Neural Network\n",
        "model = Sequential()\n",
        "#Non-trainable embeddidng layer\n",
        "model.add(Embedding(vocab_size, output_dim=EMBEDDING_DIM, weights=[embedding_vectors], input_length=maxlen, trainable=False))\n",
        "#LSTM \n",
        "model.add(LSTM(units=128))\n",
        "model.add(Dense(1, activation='sigmoid'))\n",
        "model.compile(optimizer='adam', loss='binary_crossentropy', metrics=['acc'])\n",
        "\n",
        "del embedding_vectors"
      ],
      "execution_count": 121,
      "outputs": []
    },
    {
      "cell_type": "code",
      "metadata": {
        "id": "0FhIVGJr0T53",
        "colab_type": "code",
        "colab": {
          "base_uri": "https://localhost:8080/",
          "height": 255
        },
        "outputId": "7ed13859-c32d-4e08-c93c-07ec9228e4be"
      },
      "source": [
        "model.summary()"
      ],
      "execution_count": 122,
      "outputs": [
        {
          "output_type": "stream",
          "text": [
            "Model: \"sequential_5\"\n",
            "_________________________________________________________________\n",
            "Layer (type)                 Output Shape              Param #   \n",
            "=================================================================\n",
            "embedding_3 (Embedding)      (None, 50, 100)           527900    \n",
            "_________________________________________________________________\n",
            "lstm_3 (LSTM)                (None, 128)               117248    \n",
            "_________________________________________________________________\n",
            "dense_3 (Dense)              (None, 1)                 129       \n",
            "=================================================================\n",
            "Total params: 645,277\n",
            "Trainable params: 117,377\n",
            "Non-trainable params: 527,900\n",
            "_________________________________________________________________\n"
          ],
          "name": "stdout"
        }
      ]
    },
    {
      "cell_type": "code",
      "metadata": {
        "id": "VDBjHBwZ37kp",
        "colab_type": "code",
        "colab": {}
      },
      "source": [
        "X = np.asarray(X).astype(np.float32)\n",
        "y = np.asarray(y).astype(np.float32)"
      ],
      "execution_count": 111,
      "outputs": []
    },
    {
      "cell_type": "code",
      "metadata": {
        "id": "4CPvvB2i1dco",
        "colab_type": "code",
        "colab": {}
      },
      "source": [
        "#Train test split\n",
        "X_train, X_test, y_train, y_test = train_test_split(X, y)"
      ],
      "execution_count": 112,
      "outputs": []
    },
    {
      "cell_type": "code",
      "metadata": {
        "id": "SD0ZlKQ_xsxo",
        "colab_type": "code",
        "colab": {
          "base_uri": "https://localhost:8080/",
          "height": 119
        },
        "outputId": "0ab76549-1bdf-4f3c-aafe-05b893d5b3ee"
      },
      "source": [
        "from sklearn.linear_model import PassiveAggressiveClassifier\n",
        "pa_classifier=PassiveAggressiveClassifier(C=0.5,max_iter=150)\n",
        "pa_classifier.fit(X_train,y_train)"
      ],
      "execution_count": 113,
      "outputs": [
        {
          "output_type": "execute_result",
          "data": {
            "text/plain": [
              "PassiveAggressiveClassifier(C=0.5, average=False, class_weight=None,\n",
              "                            early_stopping=False, fit_intercept=True,\n",
              "                            loss='hinge', max_iter=150, n_iter_no_change=5,\n",
              "                            n_jobs=None, random_state=None, shuffle=True,\n",
              "                            tol=0.001, validation_fraction=0.1, verbose=0,\n",
              "                            warm_start=False)"
            ]
          },
          "metadata": {
            "tags": []
          },
          "execution_count": 113
        }
      ]
    },
    {
      "cell_type": "code",
      "metadata": {
        "id": "zRc9ELMbx-sk",
        "colab_type": "code",
        "colab": {
          "base_uri": "https://localhost:8080/",
          "height": 34
        },
        "outputId": "d01e6eb6-5f96-40f0-98ff-9236474453d2"
      },
      "source": [
        "y_pred=pa_classifier.predict(X_test)\n",
        "score=accuracy_score(y_test,y_pred)\n",
        "print(f'Accuracy: {round(score*100,2)}%')"
      ],
      "execution_count": 114,
      "outputs": [
        {
          "output_type": "stream",
          "text": [
            "Accuracy: 74.22%\n"
          ],
          "name": "stdout"
        }
      ]
    },
    {
      "cell_type": "code",
      "metadata": {
        "id": "MfGYWUFU1hy2",
        "colab_type": "code",
        "colab": {
          "base_uri": "https://localhost:8080/",
          "height": 238
        },
        "outputId": "b20065e1-d533-4a4a-b119-e59531bc7814"
      },
      "source": [
        "model.fit(X_train, y_train, validation_split=0.3, epochs=6)"
      ],
      "execution_count": 115,
      "outputs": [
        {
          "output_type": "stream",
          "text": [
            "Epoch 1/6\n",
            "24/24 [==============================] - 2s 70ms/step - loss: 0.6088 - acc: 0.7497 - val_loss: 0.5190 - val_acc: 0.8107\n",
            "Epoch 2/6\n",
            "24/24 [==============================] - 1s 56ms/step - loss: 0.5561 - acc: 0.7578 - val_loss: 0.5350 - val_acc: 0.8107\n",
            "Epoch 3/6\n",
            "24/24 [==============================] - 1s 57ms/step - loss: 0.5670 - acc: 0.7578 - val_loss: 0.4861 - val_acc: 0.8107\n",
            "Epoch 4/6\n",
            "24/24 [==============================] - 1s 57ms/step - loss: 0.5567 - acc: 0.7578 - val_loss: 0.5076 - val_acc: 0.8107\n",
            "Epoch 5/6\n",
            "24/24 [==============================] - 1s 57ms/step - loss: 0.5546 - acc: 0.7578 - val_loss: 0.4851 - val_acc: 0.8107\n",
            "Epoch 6/6\n",
            "24/24 [==============================] - 1s 57ms/step - loss: 0.5612 - acc: 0.7578 - val_loss: 0.4933 - val_acc: 0.8107\n"
          ],
          "name": "stdout"
        },
        {
          "output_type": "execute_result",
          "data": {
            "text/plain": [
              "<tensorflow.python.keras.callbacks.History at 0x7f518ba38ef0>"
            ]
          },
          "metadata": {
            "tags": []
          },
          "execution_count": 115
        }
      ]
    },
    {
      "cell_type": "code",
      "metadata": {
        "id": "seM_XRut1mds",
        "colab_type": "code",
        "colab": {}
      },
      "source": [
        "#Prediction is in probability of news being real, so converting into classes\n",
        "# Class 0 (Fake) if predicted prob < 0.5, else class 1 (Real)\n",
        "y_pred = (model.predict(X_test) >= 0.5).astype(\"int\")"
      ],
      "execution_count": 116,
      "outputs": []
    },
    {
      "cell_type": "code",
      "metadata": {
        "id": "9lV7xdvV4UsR",
        "colab_type": "code",
        "colab": {
          "base_uri": "https://localhost:8080/",
          "height": 34
        },
        "outputId": "e6590804-bc04-4516-ff15-ea75be562d45"
      },
      "source": [
        "from sklearn.metrics import classification_report, accuracy_score\n",
        "accuracy_score(y_test, y_pred)"
      ],
      "execution_count": 117,
      "outputs": [
        {
          "output_type": "execute_result",
          "data": {
            "text/plain": [
              "0.7875354107648725"
            ]
          },
          "metadata": {
            "tags": []
          },
          "execution_count": 117
        }
      ]
    },
    {
      "cell_type": "code",
      "metadata": {
        "id": "P1FloXgI4XKY",
        "colab_type": "code",
        "colab": {
          "base_uri": "https://localhost:8080/",
          "height": 224
        },
        "outputId": "8753adff-062f-4fd8-cca0-63f92b655701"
      },
      "source": [
        "print(classification_report(y_test, y_pred))"
      ],
      "execution_count": 79,
      "outputs": [
        {
          "output_type": "stream",
          "text": [
            "              precision    recall  f1-score   support\n",
            "\n",
            "         0.0       0.79      1.00      0.88       279\n",
            "         1.0       0.00      0.00      0.00        74\n",
            "\n",
            "    accuracy                           0.79       353\n",
            "   macro avg       0.40      0.50      0.44       353\n",
            "weighted avg       0.62      0.79      0.70       353\n",
            "\n"
          ],
          "name": "stdout"
        },
        {
          "output_type": "stream",
          "text": [
            "/usr/local/lib/python3.6/dist-packages/sklearn/metrics/_classification.py:1272: UndefinedMetricWarning: Precision and F-score are ill-defined and being set to 0.0 in labels with no predicted samples. Use `zero_division` parameter to control this behavior.\n",
            "  _warn_prf(average, modifier, msg_start, len(result))\n"
          ],
          "name": "stderr"
        }
      ]
    },
    {
      "cell_type": "code",
      "metadata": {
        "id": "WqoHoyBv4c1m",
        "colab_type": "code",
        "colab": {
          "base_uri": "https://localhost:8080/",
          "height": 34
        },
        "outputId": "01538a7f-253b-45ff-a780-302095f2a746"
      },
      "source": [
        "import gc\n",
        "gc.collect()"
      ],
      "execution_count": 123,
      "outputs": [
        {
          "output_type": "execute_result",
          "data": {
            "text/plain": [
              "193"
            ]
          },
          "metadata": {
            "tags": []
          },
          "execution_count": 123
        }
      ]
    },
    {
      "cell_type": "code",
      "metadata": {
        "id": "JtZd9zzJ6IPT",
        "colab_type": "code",
        "colab": {}
      },
      "source": [
        ""
      ],
      "execution_count": null,
      "outputs": []
    }
  ]
}